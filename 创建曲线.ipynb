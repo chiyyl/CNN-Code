{
 "cells": [
  {
   "cell_type": "code",
   "execution_count": 17,
   "metadata": {},
   "outputs": [
    {
     "name": "stdout",
     "output_type": "stream",
     "text": [
      "1\n"
     ]
    }
   ],
   "source": [
    "import tensorflow as tf\n",
    "import numpy as np\n",
    "import math\n",
    "\n",
    "dataLen = 30\n",
    "xData = np.linspace(-3,3,dataLen)[:,np.newaxis]# 此处注意，[:,np.newaxis]是为了创建成30行，一列的矩阵。使用reshape[-1，1]，只能形成30行的数组\n",
    "pix = math.pi*xData\n",
    "yData = np.sin(pix)/pix\n",
    "\n",
    "yRandom = np.random.rand(len(yData))-0.5\n",
    "yData = yData + 0.2*yRandom\n",
    "\n",
    "xInput = tf.placeholder(tf.float32,xData.shape)\n"
   ]
  }
 ],
 "metadata": {
  "kernelspec": {
   "display_name": "Python 3",
   "language": "python",
   "name": "python3"
  },
  "language_info": {
   "codemirror_mode": {
    "name": "ipython",
    "version": 3
   },
   "file_extension": ".py",
   "mimetype": "text/x-python",
   "name": "python",
   "nbconvert_exporter": "python",
   "pygments_lexer": "ipython3",
   "version": "3.6.1"
  }
 },
 "nbformat": 4,
 "nbformat_minor": 2
}
