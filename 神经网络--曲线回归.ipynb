{
 "cells": [
  {
   "cell_type": "code",
   "execution_count": 5,
   "metadata": {},
   "outputs": [
    {
     "name": "stdout",
     "output_type": "stream",
     "text": [
      "1\n"
     ]
    },
    {
     "data": {
      "image/png": "[encoded data removed]",
      "text/plain": [
       "<matplotlib.figure.Figure at 0x1dead750cf8>"
      ]
     },
     "metadata": {},
     "output_type": "display_data"
    },
    {
     "name": "stdout",
     "output_type": "stream",
     "text": [
      "end\n"
     ]
    }
   ],
   "source": [
    "import tensorflow as tf\n",
    "import numpy as np\n",
    "import matplotlib.pyplot as plt\n",
    "import math\n",
    "\n",
    "dataLen =300\n",
    "xData = np.linspace(-3,3,dataLen)[:,np.newaxis]# 此处注意，[:,np.newaxis]是为了创建成30行，一列的矩阵。使用reshape[-1，1]，只能形成30行的数组\n",
    "pix = math.pi*xData\n",
    "yRandom = np.random.rand(dataLen)[:,np.newaxis]-0.5\n",
    "\n",
    "yData =  np.sin(pix)/pix + 0.1*xData +0.2*yRandom\n",
    "\n",
    "\n",
    "\n",
    "\n",
    "# xData = np.linspace(-1,1,dataLen)[:, np.newaxis]\n",
    "# noise = np.random.normal(0, 0.05, xData.shape)\n",
    "# yData = np.square(xData) - 0.5 + noise\n",
    "\n",
    "\n",
    "\n",
    "\n",
    "xInput = tf.placeholder(tf.float32,shape=xData.shape)\n",
    "yInput =  tf.placeholder(tf.float32,shape=yData.shape)\n",
    "\n",
    "# size 每个神经节点的，权重个数\n",
    "# nodeNum 节点个数\n",
    "def inLayout(inputDatas,inputSize,outSize,activationFun = None):\n",
    "    Weight = tf.Variable(tf.random_normal([inputSize,outSize],stddev=0.25),name=\"W\")\n",
    "    Bais =  tf.Variable(tf.zeros([1,outSize]) + 0.1,name = \"B\")\n",
    "    \n",
    "    tempResult = tf.matmul(inputDatas,Weight) + Bais\n",
    "    \n",
    "    if activationFun is None :\n",
    "        result = tempResult\n",
    "    else:\n",
    "        result = activationFun(tempResult)\n",
    "#         result = activationFun(tempResult)\n",
    "#         result = tf.where(result<0,0,result)\n",
    "    \n",
    "    return result\n",
    "\n",
    "print(\"1\")\n",
    "\n",
    "L1 = inLayout(xInput,1,10,activationFun = tf.nn.relu)\n",
    "L2 = inLayout(L1,10,10,activationFun =tf.nn.relu)\n",
    "L3= inLayout(L2,10,10,activationFun = tf.nn.relu)\n",
    "\n",
    "preCalValue = inLayout(L3,10,1,activationFun = None)\n",
    "loseFunction = tf.reduce_mean(tf.reduce_sum(tf.square(yInput-preCalValue),reduction_indices=[1]))\n",
    "\n",
    "trainstep = tf.train.GradientDescentOptimizer(0.1).minimize(loseFunction)\n",
    "init = tf.global_variables_initializer()\n",
    "\n",
    "with tf.Session() as sess:\n",
    "    sess.run(init)\n",
    "    for i in range(1000):\n",
    "        sess.run(trainstep,feed_dict={xInput:xData,yInput:yData})\n",
    "#         if i%50 == 0:\n",
    "       # print(sess.run(preCalValue,feed_dict={xInput:xData,yInput:yData}))\n",
    "#             print(sess.run(loseFunction,feed_dict={xInput:xData,yInput:yData}))\n",
    "           \n",
    "               \n",
    "    newY = sess.run(preCalValue,feed_dict={xInput:xData,yInput:yData})\n",
    "    plt.plot(xData,yData,'o',c='r')\n",
    "    plt.plot(xData,newY,c=\"g\")\n",
    "   \n",
    "    plt.show()\n",
    "\n",
    "    \n",
    "print(\"end\")\n",
    "\n",
    "\n",
    "    \n",
    "    \n",
    "    \n",
    "    \n",
    "\n",
    "\n",
    "    \n",
    "\n",
    "\n",
    "\n",
    "\n",
    "\n"
   ]
  }
 ],
 "metadata": {
  "kernelspec": {
   "display_name": "Python 3",
   "language": "python",
   "name": "python3"
  },
  "language_info": {
   "codemirror_mode": {
    "name": "ipython",
    "version": 3
   },
   "file_extension": ".py",
   "mimetype": "text/x-python",
   "name": "python",
   "nbconvert_exporter": "python",
   "pygments_lexer": "ipython3",
   "version": "3.6.1"
  }
 },
 "nbformat": 4,
 "nbformat_minor": 2
}
